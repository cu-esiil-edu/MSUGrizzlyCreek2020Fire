import requests
import geopandas as gpd
import json

# API endpoint URL
url = "https://api.census.gov/data/2022/acs/acs5/profile?get=group(DP05)&ucgid=0500000US08037"

try:
    # Fetch data from the API
    response = requests.get(url)

    # Check if request was successful (status code 200)
    if response.status_code == 200:
        # Parse JSON data
        data = response.json()

        # Convert to GeoDataFrame (assuming your data format allows GeoDataFrame creation)
        # Example: Convert JSON data to a DataFrame and then to a GeoDataFrame
        # This depends on how your JSON response is structured
        df = gpd.GeoDataFrame(data[1:], columns=data[0])  # Assuming first row is headers

        # Print first few rows
        print(df.head())

    else:
        print(f"Error fetching data. Status code: {response.status_code}")

except requests.exceptions.RequestException as e:
    print(f"Error fetching data: {e}")

