{
 "cells": [
  {
   "cell_type": "code",
   "execution_count": 2,
   "metadata": {},
   "outputs": [
    {
     "name": "stdout",
     "output_type": "stream",
     "text": [
      "  DP05_0001E DP05_0001EA  DP05_0001M DP05_0001MA DP05_0001PE DP05_0001PEA  \\\n",
      "0      55650        None  -555555555       *****       55650         None   \n",
      "\n",
      "  DP05_0001PM DP05_0001PMA DP05_0002E DP05_0002EA  ... DP05_0091EA DP05_0091M  \\\n",
      "0  -888888888          (X)      29968        None  ...        None        473   \n",
      "\n",
      "  DP05_0091MA DP05_0091PE DP05_0091PEA DP05_0091PM DP05_0091PMA  \\\n",
      "0        None        45.2         None         0.7         None   \n",
      "\n",
      "           GEO_ID                    NAME           ucgid  \n",
      "0  0500000US08037  Eagle County, Colorado  0500000US08037  \n",
      "\n",
      "[1 rows x 731 columns]\n"
     ]
    }
   ],
   "source": [
    "import requests\n",
    "import geopandas as gpd\n",
    "import json\n",
    "\n",
    "# API endpoint URL\n",
    "url = \"https://api.census.gov/data/2022/acs/acs5/profile?get=group(DP05)&ucgid=0500000US08037\"\n",
    "\n",
    "try:\n",
    "    # Fetch data from the API\n",
    "    response = requests.get(url)\n",
    "\n",
    "    # Check if request was successful (status code 200)\n",
    "    if response.status_code == 200:\n",
    "        # Parse JSON data\n",
    "        data = response.json()\n",
    "\n",
    "        # Convert to GeoDataFrame (assuming your data format allows GeoDataFrame creation)\n",
    "        # Example: Convert JSON data to a DataFrame and then to a GeoDataFrame\n",
    "        # This depends on how your JSON response is structured\n",
    "        df = gpd.GeoDataFrame(data[1:], columns=data[0])  # Assuming first row is headers\n",
    "\n",
    "        # Print first few rows\n",
    "        print(df.head())\n",
    "\n",
    "    else:\n",
    "        print(f\"Error fetching data. Status code: {response.status_code}\")\n",
    "\n",
    "except requests.exceptions.RequestException as e:\n",
    "    print(f\"Error fetching data: {e}\")\n",
    "\n"
   ]
  }
 ],
 "metadata": {
  "kernelspec": {
   "display_name": "base",
   "language": "python",
   "name": "python3"
  },
  "language_info": {
   "codemirror_mode": {
    "name": "ipython",
    "version": 3
   },
   "file_extension": ".py",
   "mimetype": "text/x-python",
   "name": "python",
   "nbconvert_exporter": "python",
   "pygments_lexer": "ipython3",
   "version": "3.11.6"
  }
 },
 "nbformat": 4,
 "nbformat_minor": 2
}
